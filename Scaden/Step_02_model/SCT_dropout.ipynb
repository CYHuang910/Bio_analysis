{
 "cells": [
  {
   "cell_type": "markdown",
   "metadata": {},
   "source": [
    "## 在Github 找到有人建過 pytorch 版的 Scaden\n",
    "###### https://github.com/poseidonchan/TAPE/blob/main/Experiments/pytorch_scaden_PBMConly.ipynb"
   ]
  },
  {
   "cell_type": "code",
   "execution_count": 1,
   "metadata": {
    "scrolled": true
   },
   "outputs": [
    {
     "name": "stdout",
     "output_type": "stream",
     "text": [
      "Mon Aug 29 04:35:15 2022       \r\n",
      "+-----------------------------------------------------------------------------+\r\n",
      "| NVIDIA-SMI 418.56       Driver Version: 418.56       CUDA Version: 10.1     |\r\n",
      "|-------------------------------+----------------------+----------------------+\r\n",
      "| GPU  Name        Persistence-M| Bus-Id        Disp.A | Volatile Uncorr. ECC |\r\n",
      "| Fan  Temp  Perf  Pwr:Usage/Cap|         Memory-Usage | GPU-Util  Compute M. |\r\n",
      "|===============================+======================+======================|\r\n",
      "|   0  GeForce GTX 108...  Off  | 00000000:5E:00.0 Off |                  N/A |\r\n",
      "|  0%   38C    P5    14W / 280W |      0MiB / 11178MiB |      0%      Default |\r\n",
      "+-------------------------------+----------------------+----------------------+\r\n",
      "|   1  GeForce GTX 108...  Off  | 00000000:AF:00.0 Off |                  N/A |\r\n",
      "|  0%   34C    P5    22W / 280W |      0MiB / 11178MiB |      0%      Default |\r\n",
      "+-------------------------------+----------------------+----------------------+\r\n",
      "                                                                               \r\n",
      "+-----------------------------------------------------------------------------+\r\n",
      "| Processes:                                                       GPU Memory |\r\n",
      "|  GPU       PID   Type   Process name                             Usage      |\r\n",
      "|=============================================================================|\r\n",
      "|  No running processes found                                                 |\r\n",
      "+-----------------------------------------------------------------------------+\r\n"
     ]
    }
   ],
   "source": [
    "!nvidia-smi"
   ]
  },
  {
   "cell_type": "code",
   "execution_count": 2,
   "metadata": {},
   "outputs": [],
   "source": [
    "from tqdm import tqdm\n",
    "import torch\n",
    "import random\n",
    "import numpy as np\n",
    "import pandas as pd\n",
    "import collections\n",
    "import anndata\n",
    "from anndata import read_h5ad\n",
    "import torch.utils.data as Data\n",
    "import torch.nn.functional as F\n",
    "from sklearn.preprocessing import MinMaxScaler\n",
    "from sklearn.model_selection import train_test_split\n",
    "import torch.nn as nn\n",
    "import matplotlib.pyplot as plt\n",
    "import scanpy as sc\n",
    "from torchsummary import summary\n",
    "from scipy.stats import pearsonr\n",
    "from sklearn import preprocessing"
   ]
  },
  {
   "cell_type": "code",
   "execution_count": 3,
   "metadata": {},
   "outputs": [],
   "source": [
    "import os\n",
    "os.environ[\"CUDA_VISIBLE_DEVICES\"]=\"0\"\n",
    "device = torch.device(\"cuda\" if torch.cuda.is_available() else \"cpu\")"
   ]
  },
  {
   "cell_type": "code",
   "execution_count": 4,
   "metadata": {},
   "outputs": [
    {
     "data": {
      "text/plain": [
       "AnnData object with n_obs × n_vars = 40000 × 2870\n",
       "    obs: 'CD141+DC', 'CD4/CD8-C1-CCR7', 'CD4/CD8-C2-MKI67', 'CD8-C7-KLRD1', 'CD8-C9-SLC4A10', 'Central memory T cells', 'Circulating NK', 'Conventional dendritic cells(CD1C DC)', 'Cytotoxicity CD8T', 'DC-C4-LAMP3', 'Effector memory T cells', 'Exhausted CD8+ T (Tex) cells', 'ILCs', 'Liver-resident NK (lrNK) cell', 'Lymphoid-B', 'M-C4-GPX3', 'M1', 'Mast', 'Mono', 'Myeloid-derived suppressor cells', 'NK', 'TAM-like', 'Th0', 'Th1', 'Treg', 'donor'"
      ]
     },
     "execution_count": 4,
     "metadata": {},
     "output_type": "execute_result"
    }
   ],
   "source": [
    "adata = read_h5ad('../0819_simulate_SCT_cv20to200_10p_400cell.h5ad')\n",
    "adata"
   ]
  },
  {
   "cell_type": "code",
   "execution_count": 5,
   "metadata": {
    "scrolled": false
   },
   "outputs": [
    {
     "data": {
      "text/plain": [
       "Counter({'D20171109': 8000,\n",
       "         'D20171215': 8000,\n",
       "         'D20180108': 8000,\n",
       "         'D20180110': 8000,\n",
       "         'D20180116': 8000})"
      ]
     },
     "execution_count": 5,
     "metadata": {},
     "output_type": "execute_result"
    }
   ],
   "source": [
    "collections.Counter(adata.obs['donor'])"
   ]
  },
  {
   "cell_type": "code",
   "execution_count": 6,
   "metadata": {},
   "outputs": [
    {
     "name": "stdout",
     "output_type": "stream",
     "text": [
      "(40000, 2870)\n"
     ]
    },
    {
     "data": {
      "text/plain": [
       "array([0.       , 0.       , 0.       , 0.       , 0.       , 0.       ,\n",
       "       0.       , 0.       , 0.       , 0.       , 0.       , 0.       ,\n",
       "       0.4430094, 0.       , 0.       , 0.       , 0.       , 0.       ,\n",
       "       0.       , 0.       ], dtype=float32)"
      ]
     },
     "execution_count": 6,
     "metadata": {},
     "output_type": "execute_result"
    }
   ],
   "source": [
    "print(adata.X.shape)\n",
    "adata.X[0,0:20]"
   ]
  },
  {
   "cell_type": "markdown",
   "metadata": {},
   "source": [
    "## Scaden"
   ]
  },
  {
   "cell_type": "code",
   "execution_count": 7,
   "metadata": {},
   "outputs": [],
   "source": [
    "class MLP_drop_m256(nn.Module):\n",
    "    def __init__(self, gene_size, unit):\n",
    "        super(MLP_drop_m256, self).__init__()\n",
    "        self.gene_size = gene_size\n",
    "        self.unit = unit\n",
    "        \n",
    "        self.D1 = nn.Sequential(\n",
    "            nn.Linear(self.gene_size, 256),\n",
    "            nn.Dropout(p=0),\n",
    "            nn.ReLU(),\n",
    "            nn.Linear(256, 128),\n",
    "            nn.Dropout(p=0.5),\n",
    "            nn.ReLU(),\n",
    "            nn.Linear(128, 64),\n",
    "            nn.Dropout(p=0.5),\n",
    "            nn.ReLU(),\n",
    "            nn.Linear(64, 32),\n",
    "            nn.Dropout(p=0.5),\n",
    "            nn.ReLU(),\n",
    "            nn.Linear(32, self.unit),\n",
    "            nn.Softmax(dim=1)\n",
    "        )\n",
    "\n",
    "    def forward(self, inputs):\n",
    "        out = self.D1(inputs)\n",
    "        return out"
   ]
  },
  {
   "cell_type": "code",
   "execution_count": 8,
   "metadata": {},
   "outputs": [],
   "source": [
    "class MLP_drop_m512(nn.Module):\n",
    "    def __init__(self, gene_size, unit):\n",
    "        super(MLP_drop_m512, self).__init__()\n",
    "        self.gene_size = gene_size\n",
    "        self.unit = unit\n",
    "        \n",
    "        self.D1 = nn.Sequential(\n",
    "            nn.Linear(self.gene_size, 512),\n",
    "            nn.Dropout(p=0),\n",
    "            nn.ReLU(),\n",
    "            nn.Linear(512, 256),\n",
    "            nn.Dropout(p=0.5),\n",
    "            nn.ReLU(),\n",
    "            nn.Linear(256, 128),\n",
    "            nn.Dropout(p=0.5),\n",
    "            nn.ReLU(),\n",
    "            nn.Linear(128, 64),\n",
    "            nn.Dropout(p=0.5),\n",
    "            nn.ReLU(),\n",
    "            nn.Linear(64, self.unit),\n",
    "            nn.Softmax(dim=1)\n",
    "        )\n",
    "\n",
    "    def forward(self, inputs):\n",
    "        out = self.D1(inputs)\n",
    "        return out"
   ]
  },
  {
   "cell_type": "code",
   "execution_count": 9,
   "metadata": {},
   "outputs": [],
   "source": [
    "class MLP_drop_m1024(nn.Module):\n",
    "    def __init__(self, gene_size, unit):\n",
    "        super(MLP_drop_m1024, self).__init__()\n",
    "        self.gene_size = gene_size\n",
    "        self.unit = unit\n",
    "        \n",
    "        self.D1 = nn.Sequential(\n",
    "            nn.Linear(self.gene_size, 1024),\n",
    "            nn.Dropout(p=0),\n",
    "            nn.ReLU(),\n",
    "            nn.Linear(1024, 512),\n",
    "            nn.Dropout(p=0.5),\n",
    "            nn.ReLU(),\n",
    "            nn.Linear(512, 256),\n",
    "            nn.Dropout(p=0.5),\n",
    "            nn.ReLU(),\n",
    "            nn.Linear(256, 128),\n",
    "            nn.Dropout(p=0.5),\n",
    "            nn.ReLU(),\n",
    "            nn.Linear(128, self.unit),\n",
    "            nn.Softmax(dim=1)\n",
    "        )\n",
    "    def forward(self, inputs):\n",
    "        out = self.D1(inputs)\n",
    "        return out"
   ]
  },
  {
   "cell_type": "code",
   "execution_count": 10,
   "metadata": {},
   "outputs": [],
   "source": [
    "class MLP_batch(nn.Module):\n",
    "    def __init__(self, gene_size, unit):\n",
    "        super(MLP_batch, self).__init__()\n",
    "        self.gene_size = gene_size\n",
    "        self.unit = unit\n",
    "        \n",
    "        self.D1 = nn.Sequential(\n",
    "            nn.Linear(self.gene_size, 256),\n",
    "            nn.Dropout(p=0),\n",
    "            nn.ReLU(),\n",
    "            nn.Linear(256, 128),\n",
    "            nn.Dropout(p=0.5),\n",
    "            nn.ReLU(),\n",
    "            nn.Linear(128, 64),\n",
    "            nn.Dropout(p=0.5),\n",
    "            nn.ReLU(),\n",
    "            nn.Linear(64, 32),\n",
    "            nn.Dropout(p=0.5),\n",
    "            nn.ReLU(),\n",
    "            nn.Linear(32, self.unit),\n",
    "            nn.Softmax(dim=1)\n",
    "        )\n",
    "        self.D2 = nn.Sequential(\n",
    "            nn.Linear(self.gene_size, 512),\n",
    "            nn.Dropout(p=0),\n",
    "            nn.ReLU(),\n",
    "            nn.Linear(512, 256),\n",
    "            nn.Dropout(p=0.5),\n",
    "            nn.ReLU(),\n",
    "            nn.Linear(256, 128),\n",
    "            nn.Dropout(p=0.5),\n",
    "            nn.ReLU(),\n",
    "            nn.Linear(128, 64),\n",
    "            nn.Dropout(p=0.5),\n",
    "            nn.ReLU(),\n",
    "            nn.Linear(64, self.unit),\n",
    "            nn.Softmax(dim=1)\n",
    "        )\n",
    "        self.D3 = nn.Sequential(\n",
    "            nn.Linear(self.gene_size, 1024),\n",
    "            nn.Dropout(p=0),\n",
    "            nn.ReLU(),\n",
    "            nn.Linear(1024, 512),\n",
    "            nn.Dropout(p=0.5),\n",
    "            nn.ReLU(),\n",
    "            nn.Linear(512, 256),\n",
    "            nn.Dropout(p=0.5),\n",
    "            nn.ReLU(),\n",
    "            nn.Linear(256, 128),\n",
    "            nn.Dropout(p=0.5),\n",
    "            nn.ReLU(),\n",
    "            nn.Linear(128, self.unit),\n",
    "            nn.Softmax(dim=1)\n",
    "        )\n",
    "    def forward(self, inputs):\n",
    "        out1 = self.D1(inputs)\n",
    "        out2 = self.D2(inputs)\n",
    "        out3 = self.D3(inputs)\n",
    "        \n",
    "        out = (out1+out2+out3)/3\n",
    "        return out"
   ]
  },
  {
   "cell_type": "markdown",
   "metadata": {},
   "source": [
    "## Preprocess train, validation\n",
    "\n",
    "### Training harmony"
   ]
  },
  {
   "cell_type": "code",
   "execution_count": 11,
   "metadata": {},
   "outputs": [],
   "source": [
    "date = \"0821\""
   ]
  },
  {
   "cell_type": "code",
   "execution_count": 12,
   "metadata": {},
   "outputs": [],
   "source": [
    "dropout_rate = \"050_050_050\""
   ]
  },
  {
   "cell_type": "code",
   "execution_count": null,
   "metadata": {},
   "outputs": [],
   "source": [
    "train_list = 'D20171109'"
   ]
  },
  {
   "cell_type": "code",
   "execution_count": null,
   "metadata": {},
   "outputs": [],
   "source": [
    "train_list = 'D20171215'"
   ]
  },
  {
   "cell_type": "code",
   "execution_count": null,
   "metadata": {},
   "outputs": [],
   "source": [
    "train_list = 'D20180108'"
   ]
  },
  {
   "cell_type": "code",
   "execution_count": null,
   "metadata": {},
   "outputs": [],
   "source": [
    "train_list = 'D20180110'"
   ]
  },
  {
   "cell_type": "code",
   "execution_count": null,
   "metadata": {},
   "outputs": [],
   "source": [
    "train_list = 'D20180116'"
   ]
  },
  {
   "cell_type": "code",
   "execution_count": 13,
   "metadata": {},
   "outputs": [
    {
     "name": "stdout",
     "output_type": "stream",
     "text": [
      "Training on: ['D20171109', 'D20180108', 'D20180110', 'D20180116']\n"
     ]
    }
   ],
   "source": [
    "train_list = 'D20171109 D20180108 D20180110 D20180116'\n",
    "val_list = 'D20171215'\n",
    "\n",
    "# Convert training datasets list\n",
    "if train_list== '':\n",
    "    train_list = []\n",
    "else:\n",
    "    train_list = train_list.split()\n",
    "print(\"Training on: \" + str(train_list))"
   ]
  },
  {
   "cell_type": "code",
   "execution_count": 14,
   "metadata": {},
   "outputs": [
    {
     "data": {
      "text/plain": [
       "Counter({'D20171109': 8000,\n",
       "         'D20180108': 8000,\n",
       "         'D20180110': 8000,\n",
       "         'D20180116': 8000})"
      ]
     },
     "execution_count": 14,
     "metadata": {},
     "output_type": "execute_result"
    }
   ],
   "source": [
    "train_data = adata\n",
    "\n",
    "# 取出trian dataset: Subset dataset\n",
    "if len(train_list) > 0:\n",
    "    all_ds = collections.Counter(adata.obs['donor'])\n",
    "    for i in all_ds:\n",
    "        if i not in train_list:\n",
    "            train_data = train_data[train_data.obs['donor'] != i].copy()\n",
    "\n",
    "collections.Counter(train_data.obs['donor'])"
   ]
  },
  {
   "cell_type": "markdown",
   "metadata": {},
   "source": [
    "### all datasets"
   ]
  },
  {
   "cell_type": "code",
   "execution_count": 15,
   "metadata": {},
   "outputs": [],
   "source": [
    "#取出val_dataset: Subset dataset\n",
    "val_data = adata[adata.obs['donor'] == val_list]"
   ]
  },
  {
   "cell_type": "code",
   "execution_count": 16,
   "metadata": {},
   "outputs": [],
   "source": [
    "#將 train_data 分開\n",
    "#sample x gene\n",
    "t_exp = train_data.X\n",
    "t_obs = train_data.obs.drop('donor', axis=1)\n",
    "celltype = list(t_obs.columns)\n",
    "\n",
    "v_exp = val_data.X\n",
    "v_obs = val_data.obs.drop('donor', axis=1)\n",
    "\n",
    "#x_train, x_test, y_train, y_test = train_test_split(t_exp, t_obs, test_size = 0.2)\n",
    "\n",
    "train = torch.tensor(t_exp, dtype=torch.float32)\n",
    "train_label = torch.tensor(np.array(t_obs), dtype=torch.float32)\n",
    "\n",
    "test = torch.tensor(v_exp, dtype=torch.float32)\n",
    "test_label = torch.tensor(np.array(v_obs), dtype=torch.float32)"
   ]
  },
  {
   "cell_type": "markdown",
   "metadata": {},
   "source": [
    "### one datasets"
   ]
  },
  {
   "cell_type": "code",
   "execution_count": null,
   "metadata": {},
   "outputs": [],
   "source": [
    "#將 train_data 分開\n",
    "#sample x gene\n",
    "t_exp = train_data.X\n",
    "\n",
    "t_obs = train_data.obs.drop('donor', axis=1)\n",
    "celltype = list(t_obs.columns)\n",
    "\n",
    "x_train, x_test, y_train, y_test = train_test_split(t_exp, t_obs, test_size = 0.2, random_state=2)\n",
    "\n",
    "train = torch.tensor(x_train, dtype=torch.float32)\n",
    "train_label = torch.tensor(np.array(y_train), dtype=torch.float32)\n",
    "test = torch.tensor(x_test, dtype=torch.float32)\n",
    "test_label = torch.tensor(np.array(y_test), dtype=torch.float32)"
   ]
  },
  {
   "cell_type": "markdown",
   "metadata": {},
   "source": [
    "# M256"
   ]
  },
  {
   "cell_type": "code",
   "execution_count": 29,
   "metadata": {
    "scrolled": true
   },
   "outputs": [],
   "source": [
    "mlp = MLP_drop_m256(t_exp.shape[1], len(celltype)).to(device)\n",
    "\n",
    "loss_fn = nn.L1Loss()\n",
    "optimizer = torch.optim.Adam(mlp.parameters(),lr=0.0001)\n",
    "\n",
    "#Load data\n",
    "train_dataset = Data.TensorDataset(train, train_label)\n",
    "train_dataset = torch.utils.data.DataLoader(train_dataset, batch_size=64, shuffle=True)\n",
    "test_dataset = Data.TensorDataset(test, test_label)\n",
    "test_dataset = torch.utils.data.DataLoader(test_dataset, batch_size=64)\n",
    "\n",
    "#print(mlp)"
   ]
  },
  {
   "cell_type": "code",
   "execution_count": 30,
   "metadata": {},
   "outputs": [],
   "source": [
    "train_loss_list = []\n",
    "t_loss =[]\n",
    "val_loss_list = []\n",
    "v_loss = []\n",
    "\n",
    "cor = []\n",
    "cor_list = []\n",
    "val_cor = []\n",
    "val_cor_list = []\n",
    "\n",
    "t_cor_list = []\n",
    "v_cor_list = []\n",
    "t_big_cor_list = []\n",
    "v_big_cor_list = []\n",
    "\n",
    "epochs = 50\n",
    "big_type = [1,3,4,5,6,7,8,10,11,13,14,19,20,21,22,24]\n"
   ]
  },
  {
   "cell_type": "code",
   "execution_count": 31,
   "metadata": {
    "scrolled": true
   },
   "outputs": [
    {
     "name": "stdout",
     "output_type": "stream",
     "text": [
      "      epoch: 1            \n",
      "      epoch: 2            \n",
      "      epoch: 3            \n",
      "      epoch: 4            \n",
      "      epoch: 5            \n",
      "      epoch: 6            \n",
      "      epoch: 7            \n",
      "      epoch: 8            \n",
      "      epoch: 9            \n",
      "      epoch: 10            \n",
      "      epoch: 11            \n",
      "      epoch: 12            \n",
      "      epoch: 13            \n",
      "      epoch: 14            \n",
      "      epoch: 15            \n",
      "      epoch: 16            \n",
      "      epoch: 17            \n",
      "      epoch: 18            \n",
      "      epoch: 19            \n",
      "      epoch: 20            \n",
      "      epoch: 21            \n",
      "      epoch: 22            \n",
      "      epoch: 23            \n",
      "      epoch: 24            \n",
      "      epoch: 25            \n",
      "      epoch: 26            \n",
      "      epoch: 27            \n",
      "      epoch: 28            \n",
      "      epoch: 29            \n",
      "      epoch: 30            \n",
      "      epoch: 31            \n",
      "      epoch: 32            \n",
      "      epoch: 33            \n",
      "      epoch: 34            \n",
      "      epoch: 35            \n",
      "      epoch: 36            \n",
      "      epoch: 37            \n",
      "      epoch: 38            \n",
      "      epoch: 39            \n",
      "      epoch: 40            \n",
      "      epoch: 41            \n",
      "      epoch: 42            \n",
      "      epoch: 43            \n",
      "      epoch: 44            \n",
      "      epoch: 45            \n",
      "      epoch: 46            \n",
      "      epoch: 47            \n",
      "      epoch: 48            \n",
      "      epoch: 49            \n",
      "      epoch: 50            \n",
      " ----- Finish!! ----- ---\r"
     ]
    }
   ],
   "source": [
    "#Train\n",
    "for inte in range(epochs):\n",
    "    mlp.train()\n",
    "    print(\"--- Start training! ---\", end=\"\\r\")\n",
    "    print('      epoch: {}            '.format(inte+1))\n",
    "    train_loss = 0\n",
    "    val_loss = 0\n",
    "    a = 0\n",
    "    b = 0\n",
    "    t_big = 0\n",
    "    v_big = 0\n",
    "    \n",
    "    for n, D in enumerate(train_dataset):\n",
    "        pred = mlp(D[0].float().cuda())\n",
    "        MAE = loss_fn(pred, D[1].float().cuda())\n",
    "        optimizer.zero_grad()\n",
    "        MAE.backward()\n",
    "        optimizer.step()\n",
    "        \n",
    "        train_loss += MAE.item()\n",
    "        t_loss.append(MAE.cpu().detach().numpy())\n",
    "        \n",
    "        t_cor = []\n",
    "        t_big_cor = []\n",
    "        for m in range(len(D[1])):\n",
    "            corr, _ = pearsonr(D[1].cpu().detach().numpy()[m], pred.cpu().detach().numpy()[m])\n",
    "            #挑出超過 5% 的種類\n",
    "            corr_2, _ = pearsonr(D[1].cpu().detach().numpy()[m][big_type], pred.cpu().detach().numpy()[m][big_type])\n",
    "            cor.append(corr)\n",
    "            t_cor.append(corr)\n",
    "            t_big_cor.append(corr_2)\n",
    "            \n",
    "        a = np.quantile(t_cor, 0.5).item()\n",
    "        t_big = np.quantile(t_big_cor, 0.5).item()\n",
    "        \n",
    "    cor_list.append(cor)       \n",
    "    t_cor_list.append(a)\n",
    "    t_big_cor_list.append(t_big)\n",
    "    train_loss_list.append(train_loss/len(train_dataset))    \n",
    "    \n",
    "#Validation    \n",
    "    print(\"--- Now evaluation!!! ---\",end=\"\\r\")\n",
    "    mlp.eval()\n",
    "    \n",
    "    # Tell torch not to calculate gradients\n",
    "    with torch.no_grad():\n",
    "        for n, D in enumerate(test_dataset):\n",
    "            pred = mlp(D[0].float().cuda())\n",
    "            VAL = loss_fn(pred, D[1].float().cuda())\n",
    "            optimizer.zero_grad()\n",
    "            optimizer.step()\n",
    "            \n",
    "            val_loss += VAL.item()\n",
    "            v_loss.append(VAL.cpu().detach().numpy())\n",
    "            \n",
    "            v_cor = []\n",
    "            v_big_cor = []\n",
    "            for m in range(len(D[1])):\n",
    "                corr, _ = pearsonr(D[1].cpu().detach().numpy()[m], pred.cpu().detach().numpy()[m])\n",
    "                #挑出超過 5% 的種類\n",
    "                corr_2, _ = pearsonr(D[1].cpu().detach().numpy()[m][big_type], pred.cpu().detach().numpy()[m][big_type])\n",
    "                val_cor.append(corr)\n",
    "                v_cor.append(corr)\n",
    "                v_big_cor.append(corr_2)\n",
    "                \n",
    "            b = np.quantile(v_cor,0.5).item()\n",
    "            v_big = np.quantile(v_big_cor,0.5).item()\n",
    "            \n",
    "        val_cor_list.append(val_cor)\n",
    "        v_cor_list.append(b)\n",
    "        v_big_cor_list.append(v_big)\n",
    "        val_loss_list.append(val_loss/len(test_dataset))\n",
    "        \n",
    "        \n",
    "print(\" ----- Finish!! ----- \", end=\"\\r\")"
   ]
  },
  {
   "cell_type": "code",
   "execution_count": 32,
   "metadata": {},
   "outputs": [],
   "source": [
    "model = \"m256\""
   ]
  },
  {
   "cell_type": "code",
   "execution_count": 33,
   "metadata": {},
   "outputs": [],
   "source": [
    "torch.save(mlp.state_dict(), '../2.model/{}_model/{}_SCT_{}_{}.pth'.format(date, date, model, dropout_rate))\n",
    "torch.cuda.empty_cache()"
   ]
  },
  {
   "cell_type": "code",
   "execution_count": 34,
   "metadata": {},
   "outputs": [
    {
     "data": {
      "image/png": "[encoded data removed]",
      "text/plain": [
       "<Figure size 432x288 with 1 Axes>"
      ]
     },
     "metadata": {
      "needs_background": "light"
     },
     "output_type": "display_data"
    }
   ],
   "source": [
    "plt.title(\"{}_SCT \\n{} p_{} loss\".format(train_list, model, dropout_rate))\n",
    "plt.plot(train_loss_list,label='Training loss')\n",
    "plt.plot(val_loss_list,label='Validation loss')\n",
    "plt.ylim(0,0.04)\n",
    "plt.xlabel('Epochs')\n",
    "plt.ylabel('Loss')\n",
    "plt.legend(frameon=False)\n",
    "plt.savefig(\"../1.figure/{}_SCT/{}_SCT_{}_loss_p_{}.pdf\".format(date, date, model, dropout_rate))"
   ]
  },
  {
   "cell_type": "code",
   "execution_count": 35,
   "metadata": {},
   "outputs": [
    {
     "data": {
      "text/plain": [
       "<matplotlib.legend.Legend at 0x7f3d6b7150b8>"
      ]
     },
     "execution_count": 35,
     "metadata": {},
     "output_type": "execute_result"
    },
    {
     "data": {
      "image/png": "[encoded data removed]",
      "text/plain": [
       "<Figure size 432x288 with 1 Axes>"
      ]
     },
     "metadata": {
      "needs_background": "light"
     },
     "output_type": "display_data"
    }
   ],
   "source": [
    "plt.title(\"{}_SCT \\n{} p_{} loss\".format(train_list, model, dropout_rate))\n",
    "plt.plot(train_loss_list,label='Training loss')\n",
    "plt.plot(val_loss_list,label='Validation loss')\n",
    "#plt.ylim(0,0.035)\n",
    "plt.xlabel('Epochs')\n",
    "plt.ylabel('Loss')\n",
    "plt.legend(frameon=False)"
   ]
  },
  {
   "cell_type": "code",
   "execution_count": 36,
   "metadata": {},
   "outputs": [
    {
     "data": {
      "image/png": "[encoded data removed]",
      "text/plain": [
       "<Figure size 432x288 with 1 Axes>"
      ]
     },
     "metadata": {
      "needs_background": "light"
     },
     "output_type": "display_data"
    }
   ],
   "source": [
    "plt.title(\"{}_SCT \\n{} p_{} correlation\".format(train_list, model, dropout_rate))\n",
    "plt.plot(t_cor_list, label='Training correlation')\n",
    "plt.plot(v_cor_list, label='Validation correlation')\n",
    "plt.ylim(0,1.1)\n",
    "plt.xlabel('Epochs')\n",
    "plt.ylabel('Correlation')\n",
    "plt.legend(frameon=False)\n",
    "plt.savefig(\"../1.figure/{}_SCT/{}_SCT_{}_{}_correlation_p_{}.pdf\".format(date, date, model, train_list, dropout_rate))\n",
    "plt.show()"
   ]
  },
  {
   "cell_type": "code",
   "execution_count": 37,
   "metadata": {},
   "outputs": [
    {
     "data": {
      "image/png": "[encoded data removed]",
      "text/plain": [
       "<Figure size 432x288 with 1 Axes>"
      ]
     },
     "metadata": {
      "needs_background": "light"
     },
     "output_type": "display_data"
    }
   ],
   "source": [
    "plt.title(\"{}_SCT \\n{} p_{} \\n 16 celltypes correlation\".format(train_list, model, dropout_rate))\n",
    "plt.plot(t_big_cor_list, label='Training correlation')\n",
    "plt.plot(v_big_cor_list, label='Validation correlation')\n",
    "plt.ylim(0,1.1)\n",
    "plt.xlabel('Epochs')\n",
    "plt.ylabel('Correlation')\n",
    "plt.legend(frameon=False)\n",
    "plt.savefig(\"../1.figure/{}_SCT/{}_SCT_{}_{}_correlation_p_{}_in16_type.pdf\".format(date, date, model, train_list,dropout_rate))\n",
    "plt.show()"
   ]
  },
  {
   "cell_type": "code",
   "execution_count": 38,
   "metadata": {},
   "outputs": [
    {
     "data": {
      "text/html": [
       "<div>\n",
       "<style scoped>\n",
       "    .dataframe tbody tr th:only-of-type {\n",
       "        vertical-align: middle;\n",
       "    }\n",
       "\n",
       "    .dataframe tbody tr th {\n",
       "        vertical-align: top;\n",
       "    }\n",
       "\n",
       "    .dataframe thead th {\n",
       "        text-align: right;\n",
       "    }\n",
       "</style>\n",
       "<table border=\"1\" class=\"dataframe\">\n",
       "  <thead>\n",
       "    <tr style=\"text-align: right;\">\n",
       "      <th></th>\n",
       "      <th>Donor</th>\n",
       "      <th>Remove batch effect</th>\n",
       "      <th>Model</th>\n",
       "      <th>Dropout rate</th>\n",
       "      <th>Train loss (0.25)</th>\n",
       "      <th>Train Correlation (0.5)</th>\n",
       "      <th>Valid Correlation (0.5)</th>\n",
       "      <th>Train Correlation (0.5) in 16 type</th>\n",
       "      <th>Valid Correlation (0.5) in 16 type</th>\n",
       "    </tr>\n",
       "  </thead>\n",
       "  <tbody>\n",
       "    <tr>\n",
       "      <th>0</th>\n",
       "      <td>[D20171109, D20180108, D20180110, D20180116]</td>\n",
       "      <td>SCT</td>\n",
       "      <td>m256</td>\n",
       "      <td>050_050_050</td>\n",
       "      <td>0.005213</td>\n",
       "      <td>0.986864</td>\n",
       "      <td>0.705393</td>\n",
       "      <td>0.987177</td>\n",
       "      <td>0.618488</td>\n",
       "    </tr>\n",
       "  </tbody>\n",
       "</table>\n",
       "</div>"
      ],
      "text/plain": [
       "                                          Donor Remove batch effect Model  \\\n",
       "0  [D20171109, D20180108, D20180110, D20180116]                 SCT  m256   \n",
       "\n",
       "  Dropout rate  Train loss (0.25)  Train Correlation (0.5)  \\\n",
       "0  050_050_050           0.005213                 0.986864   \n",
       "\n",
       "   Valid Correlation (0.5)  Train Correlation (0.5) in 16 type  \\\n",
       "0                 0.705393                            0.987177   \n",
       "\n",
       "   Valid Correlation (0.5) in 16 type  \n",
       "0                            0.618488  "
      ]
     },
     "execution_count": 38,
     "metadata": {},
     "output_type": "execute_result"
    }
   ],
   "source": [
    "r1 = np.quantile(train_loss_list,0.25)\n",
    "r2 = np.quantile(cor_list,0.5)\n",
    "r3 = np.quantile(val_cor_list,0.5)\n",
    "r4 = np.quantile(t_big_cor_list,0.5)\n",
    "r5 = np.quantile(v_big_cor_list,0.5)\n",
    "\n",
    "data = {'Donor': [train_list],\n",
    "        'Remove batch effect': 'SCT',\n",
    "        'Model': [model],\n",
    "        'Dropout rate': [dropout_rate],\n",
    "        'Train loss (0.25)': [r1],\n",
    "        'Train Correlation (0.5)': [r2],\n",
    "        'Valid Correlation (0.5)': [r3],\n",
    "        'Train Correlation (0.5) in 16 type': [r4],\n",
    "        'Valid Correlation (0.5) in 16 type': [r5]\n",
    "       }\n",
    "df_1 = pd.DataFrame(data)\n",
    "\n",
    "df_1"
   ]
  },
  {
   "cell_type": "code",
   "execution_count": 39,
   "metadata": {
    "scrolled": true
   },
   "outputs": [
    {
     "data": {
      "image/png": "[encoded data removed]",
      "text/plain": [
       "<Figure size 432x288 with 1 Axes>"
      ]
     },
     "metadata": {
      "needs_background": "light"
     },
     "output_type": "display_data"
    }
   ],
   "source": [
    "plt.title(\"{}_SCT \\n{} p_{} \\n 16 celltypes correlation\".format(train_list, model, dropout_rate))\n",
    "plt.boxplot([t_big_cor_list,v_big_cor_list])\n",
    "plt.xticks([1,2], [\"train_cor\",\"val_cor\"])\n",
    "plt.show()"
   ]
  },
  {
   "cell_type": "code",
   "execution_count": 40,
   "metadata": {},
   "outputs": [],
   "source": [
    "m256_t_cor = t_big_cor_list\n",
    "m256_v_cor = v_big_cor_list"
   ]
  },
  {
   "cell_type": "markdown",
   "metadata": {},
   "source": [
    "# M512"
   ]
  },
  {
   "cell_type": "code",
   "execution_count": 41,
   "metadata": {
    "scrolled": true
   },
   "outputs": [],
   "source": [
    "mlp = MLP_drop_m512(t_exp.shape[1], len(celltype)).to(device)\n",
    "\n",
    "loss_fn = nn.L1Loss()\n",
    "optimizer = torch.optim.Adam(mlp.parameters(),lr=0.0001)\n",
    "\n",
    "#Load data\n",
    "train_dataset = Data.TensorDataset(train, train_label)\n",
    "train_dataset = torch.utils.data.DataLoader(train_dataset, batch_size=64, shuffle=True)\n",
    "test_dataset = Data.TensorDataset(test, test_label)\n",
    "test_dataset = torch.utils.data.DataLoader(test_dataset, batch_size=64)\n",
    "\n",
    "#print(mlp)"
   ]
  },
  {
   "cell_type": "code",
   "execution_count": 42,
   "metadata": {},
   "outputs": [],
   "source": [
    "train_loss_list = []\n",
    "t_loss =[]\n",
    "val_loss_list = []\n",
    "v_loss = []\n",
    "\n",
    "cor = []\n",
    "cor_list = []\n",
    "val_cor = []\n",
    "val_cor_list = []\n",
    "\n",
    "t_cor_list = []\n",
    "v_cor_list = []\n",
    "t_big_cor_list = []\n",
    "v_big_cor_list = []\n",
    "\n",
    "epochs = 50\n",
    "big_type = [1,3,4,5,6,7,8,10,11,13,14,19,20,21,22,24]\n"
   ]
  },
  {
   "cell_type": "code",
   "execution_count": 43,
   "metadata": {
    "scrolled": true
   },
   "outputs": [
    {
     "name": "stdout",
     "output_type": "stream",
     "text": [
      "      epoch: 1            \n",
      "      epoch: 2            \n",
      "      epoch: 3            \n",
      "      epoch: 4            \n",
      "      epoch: 5            \n",
      "      epoch: 6            \n",
      "      epoch: 7            \n",
      "      epoch: 8            \n",
      "      epoch: 9            \n",
      "      epoch: 10            \n",
      "      epoch: 11            \n",
      "      epoch: 12            \n",
      "      epoch: 13            \n",
      "      epoch: 14            \n",
      "      epoch: 15            \n",
      "      epoch: 16            \n",
      "      epoch: 17            \n",
      "      epoch: 18            \n",
      "      epoch: 19            \n",
      "      epoch: 20            \n",
      "      epoch: 21            \n",
      "      epoch: 22            \n",
      "      epoch: 23            \n",
      "      epoch: 24            \n",
      "      epoch: 25            \n",
      "      epoch: 26            \n",
      "      epoch: 27            \n",
      "      epoch: 28            \n",
      "      epoch: 29            \n",
      "      epoch: 30            \n",
      "      epoch: 31            \n",
      "      epoch: 32            \n",
      "      epoch: 33            \n",
      "      epoch: 34            \n",
      "      epoch: 35            \n",
      "      epoch: 36            \n",
      "      epoch: 37            \n",
      "      epoch: 38            \n",
      "      epoch: 39            \n",
      "      epoch: 40            \n",
      "      epoch: 41            \n",
      "      epoch: 42            \n",
      "      epoch: 43            \n",
      "      epoch: 44            \n",
      "      epoch: 45            \n",
      "      epoch: 46            \n",
      "      epoch: 47            \n",
      "      epoch: 48            \n",
      "      epoch: 49            \n",
      "      epoch: 50            \n",
      " ----- Finish!! ----- ---\r"
     ]
    }
   ],
   "source": [
    "#Train\n",
    "for inte in range(epochs):\n",
    "    mlp.train()\n",
    "    print(\"--- Start training! ---\", end=\"\\r\")\n",
    "    print('      epoch: {}            '.format(inte+1))\n",
    "    train_loss = 0\n",
    "    val_loss = 0\n",
    "    a = 0\n",
    "    b = 0\n",
    "    t_big = 0\n",
    "    v_big = 0\n",
    "    \n",
    "    for n, D in enumerate(train_dataset):\n",
    "        pred = mlp(D[0].float().cuda())\n",
    "        MAE = loss_fn(pred, D[1].float().cuda())\n",
    "        optimizer.zero_grad()\n",
    "        MAE.backward()\n",
    "        optimizer.step()\n",
    "        \n",
    "        train_loss += MAE.item()\n",
    "        t_loss.append(MAE.cpu().detach().numpy())\n",
    "        \n",
    "        t_cor = []\n",
    "        t_big_cor = []\n",
    "        for m in range(len(D[1])):\n",
    "            corr, _ = pearsonr(D[1].cpu().detach().numpy()[m], pred.cpu().detach().numpy()[m])\n",
    "            #挑出超過 5% 的種類\n",
    "            corr_2, _ = pearsonr(D[1].cpu().detach().numpy()[m][big_type], pred.cpu().detach().numpy()[m][big_type])\n",
    "            cor.append(corr)\n",
    "            t_cor.append(corr)\n",
    "            t_big_cor.append(corr_2)\n",
    "            \n",
    "        a = np.quantile(t_cor, 0.5).item()\n",
    "        t_big = np.quantile(t_big_cor, 0.5).item()\n",
    "        \n",
    "    cor_list.append(cor)       \n",
    "    t_cor_list.append(a)\n",
    "    t_big_cor_list.append(t_big)\n",
    "    train_loss_list.append(train_loss/len(train_dataset))    \n",
    "    \n",
    "#Validation    \n",
    "    print(\"--- Now evaluation!!! ---\",end=\"\\r\")\n",
    "    mlp.eval()\n",
    "    \n",
    "    # Tell torch not to calculate gradients\n",
    "    with torch.no_grad():\n",
    "        for n, D in enumerate(test_dataset):\n",
    "            pred = mlp(D[0].float().cuda())\n",
    "            VAL = loss_fn(pred, D[1].float().cuda())\n",
    "            optimizer.zero_grad()\n",
    "            optimizer.step()\n",
    "            \n",
    "            val_loss += VAL.item()\n",
    "            v_loss.append(VAL.cpu().detach().numpy())\n",
    "            \n",
    "            v_cor = []\n",
    "            v_big_cor = []\n",
    "            for m in range(len(D[1])):\n",
    "                corr, _ = pearsonr(D[1].cpu().detach().numpy()[m], pred.cpu().detach().numpy()[m])\n",
    "                #挑出超過 5% 的種類\n",
    "                corr_2, _ = pearsonr(D[1].cpu().detach().numpy()[m][big_type], pred.cpu().detach().numpy()[m][big_type])\n",
    "                val_cor.append(corr)\n",
    "                v_cor.append(corr)\n",
    "                v_big_cor.append(corr_2)\n",
    "                \n",
    "            b = np.quantile(v_cor,0.5).item()\n",
    "            v_big = np.quantile(v_big_cor,0.5).item()\n",
    "            \n",
    "        val_cor_list.append(val_cor)\n",
    "        v_cor_list.append(b)\n",
    "        v_big_cor_list.append(v_big)\n",
    "        val_loss_list.append(val_loss/len(test_dataset))\n",
    "        \n",
    "        \n",
    "print(\" ----- Finish!! ----- \", end=\"\\r\")"
   ]
  },
  {
   "cell_type": "code",
   "execution_count": 44,
   "metadata": {},
   "outputs": [],
   "source": [
    "model = \"m512\""
   ]
  },
  {
   "cell_type": "code",
   "execution_count": 45,
   "metadata": {},
   "outputs": [],
   "source": [
    "torch.save(mlp.state_dict(), '../2.model/{}_model/{}_SCT_{}_{}.pth'.format(date, date, model, dropout_rate))\n",
    "torch.cuda.empty_cache()"
   ]
  },
  {
   "cell_type": "code",
   "execution_count": 46,
   "metadata": {},
   "outputs": [
    {
     "data": {
      "image/png": "[encoded data removed]",
      "text/plain": [
       "<Figure size 432x288 with 1 Axes>"
      ]
     },
     "metadata": {
      "needs_background": "light"
     },
     "output_type": "display_data"
    }
   ],
   "source": [
    "plt.title(\"{}_SCT \\n{} p_{} loss\".format(train_list, model, dropout_rate))\n",
    "plt.plot(train_loss_list,label='Training loss')\n",
    "plt.plot(val_loss_list,label='Validation loss')\n",
    "plt.ylim(0,0.04)\n",
    "plt.xlabel('Epochs')\n",
    "plt.ylabel('Loss')\n",
    "plt.legend(frameon=False)\n",
    "plt.savefig(\"../1.figure/{}_SCT/{}_SCT_{}_loss_p_{}.pdf\".format(date, date, model, dropout_rate))"
   ]
  },
  {
   "cell_type": "code",
   "execution_count": 47,
   "metadata": {},
   "outputs": [
    {
     "data": {
      "text/plain": [
       "<matplotlib.legend.Legend at 0x7f3d73221cf8>"
      ]
     },
     "execution_count": 47,
     "metadata": {},
     "output_type": "execute_result"
    },
    {
     "data": {
      "image/png": "[encoded data removed]",
      "text/plain": [
       "<Figure size 432x288 with 1 Axes>"
      ]
     },
     "metadata": {
      "needs_background": "light"
     },
     "output_type": "display_data"
    }
   ],
   "source": [
    "plt.title(\"{}_SCT \\n{} p_{} loss\".format(train_list, model, dropout_rate))\n",
    "plt.plot(train_loss_list,label='Training loss')\n",
    "plt.plot(val_loss_list,label='Validation loss')\n",
    "#plt.ylim(0,0.035)\n",
    "plt.xlabel('Epochs')\n",
    "plt.ylabel('Loss')\n",
    "plt.legend(frameon=False)"
   ]
  },
  {
   "cell_type": "code",
   "execution_count": 48,
   "metadata": {},
   "outputs": [
    {
     "data": {
      "image/png": "[encoded data removed]",
      "text/plain": [
       "<Figure size 432x288 with 1 Axes>"
      ]
     },
     "metadata": {
      "needs_background": "light"
     },
     "output_type": "display_data"
    }
   ],
   "source": [
    "plt.title(\"{}_SCT \\n{} p_{} correlation\".format(train_list, model, dropout_rate))\n",
    "plt.plot(t_cor_list, label='Training correlation')\n",
    "plt.plot(v_cor_list, label='Validation correlation')\n",
    "plt.ylim(0,1.1)\n",
    "plt.xlabel('Epochs')\n",
    "plt.ylabel('Correlation')\n",
    "plt.legend(frameon=False)\n",
    "plt.savefig(\"../1.figure/{}_SCT/{}_SCT_{}_{}_correlation_p_{}.pdf\".format(date, date, model, train_list, dropout_rate))\n",
    "plt.show()"
   ]
  },
  {
   "cell_type": "code",
   "execution_count": 49,
   "metadata": {},
   "outputs": [
    {
     "data": {
      "image/png": "[encoded data removed]",
      "text/plain": [
       "<Figure size 432x288 with 1 Axes>"
      ]
     },
     "metadata": {
      "needs_background": "light"
     },
     "output_type": "display_data"
    }
   ],
   "source": [
    "plt.title(\"{}_SCT \\n{} p_{} \\n 16 celltypes correlation\".format(train_list, model, dropout_rate))\n",
    "plt.plot(t_big_cor_list, label='Training correlation')\n",
    "plt.plot(v_big_cor_list, label='Validation correlation')\n",
    "plt.ylim(0,1.1)\n",
    "plt.xlabel('Epochs')\n",
    "plt.ylabel('Correlation')\n",
    "plt.legend(frameon=False)\n",
    "plt.savefig(\"../1.figure/{}_SCT/{}_SCT_{}_{}_correlation_p_{}_in16_type.pdf\".format(date, date, model, train_list,dropout_rate))\n",
    "plt.show()"
   ]
  },
  {
   "cell_type": "code",
   "execution_count": 50,
   "metadata": {},
   "outputs": [
    {
     "data": {
      "text/html": [
       "<div>\n",
       "<style scoped>\n",
       "    .dataframe tbody tr th:only-of-type {\n",
       "        vertical-align: middle;\n",
       "    }\n",
       "\n",
       "    .dataframe tbody tr th {\n",
       "        vertical-align: top;\n",
       "    }\n",
       "\n",
       "    .dataframe thead th {\n",
       "        text-align: right;\n",
       "    }\n",
       "</style>\n",
       "<table border=\"1\" class=\"dataframe\">\n",
       "  <thead>\n",
       "    <tr style=\"text-align: right;\">\n",
       "      <th></th>\n",
       "      <th>Donor</th>\n",
       "      <th>Remove batch effect</th>\n",
       "      <th>Model</th>\n",
       "      <th>Dropout rate</th>\n",
       "      <th>Train loss (0.25)</th>\n",
       "      <th>Train Correlation (0.5)</th>\n",
       "      <th>Valid Correlation (0.5)</th>\n",
       "      <th>Train Correlation (0.5) in 16 type</th>\n",
       "      <th>Valid Correlation (0.5) in 16 type</th>\n",
       "    </tr>\n",
       "  </thead>\n",
       "  <tbody>\n",
       "    <tr>\n",
       "      <th>0</th>\n",
       "      <td>[D20171109, D20180108, D20180110, D20180116]</td>\n",
       "      <td>SCT</td>\n",
       "      <td>m512</td>\n",
       "      <td>050_050_050</td>\n",
       "      <td>0.004167</td>\n",
       "      <td>0.992526</td>\n",
       "      <td>0.654462</td>\n",
       "      <td>0.991788</td>\n",
       "      <td>0.538894</td>\n",
       "    </tr>\n",
       "  </tbody>\n",
       "</table>\n",
       "</div>"
      ],
      "text/plain": [
       "                                          Donor Remove batch effect Model  \\\n",
       "0  [D20171109, D20180108, D20180110, D20180116]                 SCT  m512   \n",
       "\n",
       "  Dropout rate  Train loss (0.25)  Train Correlation (0.5)  \\\n",
       "0  050_050_050           0.004167                 0.992526   \n",
       "\n",
       "   Valid Correlation (0.5)  Train Correlation (0.5) in 16 type  \\\n",
       "0                 0.654462                            0.991788   \n",
       "\n",
       "   Valid Correlation (0.5) in 16 type  \n",
       "0                            0.538894  "
      ]
     },
     "execution_count": 50,
     "metadata": {},
     "output_type": "execute_result"
    }
   ],
   "source": [
    "r1 = np.quantile(train_loss_list,0.25)\n",
    "r2 = np.quantile(cor_list,0.5)\n",
    "r3 = np.quantile(val_cor_list,0.5)\n",
    "r4 = np.quantile(t_big_cor_list,0.5)\n",
    "r5 = np.quantile(v_big_cor_list,0.5)\n",
    "\n",
    "data = {'Donor': [train_list],\n",
    "        'Remove batch effect': 'SCT',\n",
    "        'Model': [model],\n",
    "        'Dropout rate': [dropout_rate],\n",
    "        'Train loss (0.25)': [r1],\n",
    "        'Train Correlation (0.5)': [r2],\n",
    "        'Valid Correlation (0.5)': [r3],\n",
    "        'Train Correlation (0.5) in 16 type': [r4],\n",
    "        'Valid Correlation (0.5) in 16 type': [r5]\n",
    "       }\n",
    "df_2 = pd.DataFrame(data)\n",
    "\n",
    "df_2"
   ]
  },
  {
   "cell_type": "code",
   "execution_count": 51,
   "metadata": {
    "scrolled": true
   },
   "outputs": [
    {
     "data": {
      "image/png": "[encoded data removed]",
      "text/plain": [
       "<Figure size 432x288 with 1 Axes>"
      ]
     },
     "metadata": {
      "needs_background": "light"
     },
     "output_type": "display_data"
    }
   ],
   "source": [
    "plt.title(\"{}_SCT \\n{} p_{} \\n 16 celltypes correlation\".format(train_list, model, dropout_rate))\n",
    "plt.boxplot([t_big_cor_list,v_big_cor_list])\n",
    "plt.xticks([1,2], [\"train_cor\",\"val_cor\"])\n",
    "plt.show()"
   ]
  },
  {
   "cell_type": "code",
   "execution_count": 52,
   "metadata": {},
   "outputs": [],
   "source": [
    "m512_t_cor = t_big_cor_list\n",
    "m512_v_cor = v_big_cor_list"
   ]
  },
  {
   "cell_type": "markdown",
   "metadata": {},
   "source": [
    "# M1024"
   ]
  },
  {
   "cell_type": "code",
   "execution_count": 53,
   "metadata": {
    "scrolled": true
   },
   "outputs": [],
   "source": [
    "mlp = MLP_drop_m1024(t_exp.shape[1], len(celltype)).to(device)\n",
    "\n",
    "loss_fn = nn.L1Loss()\n",
    "optimizer = torch.optim.Adam(mlp.parameters(),lr=0.0001)\n",
    "\n",
    "#Load data\n",
    "train_dataset = Data.TensorDataset(train, train_label)\n",
    "train_dataset = torch.utils.data.DataLoader(train_dataset, batch_size=64, shuffle=True)\n",
    "test_dataset = Data.TensorDataset(test, test_label)\n",
    "test_dataset = torch.utils.data.DataLoader(test_dataset, batch_size=64)\n",
    "\n",
    "#print(mlp)"
   ]
  },
  {
   "cell_type": "code",
   "execution_count": 54,
   "metadata": {},
   "outputs": [],
   "source": [
    "train_loss_list = []\n",
    "t_loss =[]\n",
    "val_loss_list = []\n",
    "v_loss = []\n",
    "\n",
    "cor = []\n",
    "cor_list = []\n",
    "val_cor = []\n",
    "val_cor_list = []\n",
    "\n",
    "t_cor_list = []\n",
    "v_cor_list = []\n",
    "t_big_cor_list = []\n",
    "v_big_cor_list = []\n",
    "\n",
    "epochs = 50\n",
    "big_type = [1,3,4,5,6,7,8,10,11,13,14,19,20,21,22,24]\n"
   ]
  },
  {
   "cell_type": "code",
   "execution_count": 55,
   "metadata": {
    "scrolled": true
   },
   "outputs": [
    {
     "name": "stdout",
     "output_type": "stream",
     "text": [
      "      epoch: 1            \n",
      "      epoch: 2            \n",
      "      epoch: 3            \n",
      "      epoch: 4            \n",
      "      epoch: 5            \n",
      "      epoch: 6            \n",
      "      epoch: 7            \n",
      "      epoch: 8            \n",
      "      epoch: 9            \n",
      "      epoch: 10            \n",
      "      epoch: 11            \n",
      "      epoch: 12            \n",
      "      epoch: 13            \n",
      "      epoch: 14            \n",
      "      epoch: 15            \n",
      "      epoch: 16            \n",
      "      epoch: 17            \n",
      "      epoch: 18            \n",
      "      epoch: 19            \n",
      "      epoch: 20            \n",
      "      epoch: 21            \n",
      "      epoch: 22            \n",
      "      epoch: 23            \n",
      "      epoch: 24            \n",
      "      epoch: 25            \n",
      "      epoch: 26            \n",
      "      epoch: 27            \n",
      "      epoch: 28            \n",
      "      epoch: 29            \n",
      "      epoch: 30            \n",
      "      epoch: 31            \n",
      "      epoch: 32            \n",
      "      epoch: 33            \n",
      "      epoch: 34            \n",
      "      epoch: 35            \n",
      "      epoch: 36            \n",
      "      epoch: 37            \n",
      "      epoch: 38            \n",
      "      epoch: 39            \n",
      "      epoch: 40            \n",
      "      epoch: 41            \n",
      "      epoch: 42            \n",
      "      epoch: 43            \n",
      "      epoch: 44            \n",
      "      epoch: 45            \n",
      "      epoch: 46            \n",
      "      epoch: 47            \n",
      "      epoch: 48            \n",
      "      epoch: 49            \n",
      "      epoch: 50            \n",
      " ----- Finish!! ----- ---\r"
     ]
    }
   ],
   "source": [
    "#Train\n",
    "for inte in range(epochs):\n",
    "    mlp.train()\n",
    "    print(\"--- Start training! ---\", end=\"\\r\")\n",
    "    print('      epoch: {}            '.format(inte+1))\n",
    "    train_loss = 0\n",
    "    val_loss = 0\n",
    "    a = 0\n",
    "    b = 0\n",
    "    t_big = 0\n",
    "    v_big = 0\n",
    "    \n",
    "    for n, D in enumerate(train_dataset):\n",
    "        pred = mlp(D[0].float().cuda())\n",
    "        MAE = loss_fn(pred, D[1].float().cuda())\n",
    "        optimizer.zero_grad()\n",
    "        MAE.backward()\n",
    "        optimizer.step()\n",
    "        \n",
    "        train_loss += MAE.item()\n",
    "        t_loss.append(MAE.cpu().detach().numpy())\n",
    "        \n",
    "        t_cor = []\n",
    "        t_big_cor = []\n",
    "        for m in range(len(D[1])):\n",
    "            corr, _ = pearsonr(D[1].cpu().detach().numpy()[m], pred.cpu().detach().numpy()[m])\n",
    "            #挑出超過 5% 的種類\n",
    "            corr_2, _ = pearsonr(D[1].cpu().detach().numpy()[m][big_type], pred.cpu().detach().numpy()[m][big_type])\n",
    "            cor.append(corr)\n",
    "            t_cor.append(corr)\n",
    "            t_big_cor.append(corr_2)\n",
    "            \n",
    "        a = np.quantile(t_cor, 0.5).item()\n",
    "        t_big = np.quantile(t_big_cor, 0.5).item()\n",
    "        \n",
    "    cor_list.append(cor)       \n",
    "    t_cor_list.append(a)\n",
    "    t_big_cor_list.append(t_big)\n",
    "    train_loss_list.append(train_loss/len(train_dataset))    \n",
    "    \n",
    "#Validation    \n",
    "    print(\"--- Now evaluation!!! ---\",end=\"\\r\")\n",
    "    mlp.eval()\n",
    "    \n",
    "    # Tell torch not to calculate gradients\n",
    "    with torch.no_grad():\n",
    "        for n, D in enumerate(test_dataset):\n",
    "            pred = mlp(D[0].float().cuda())\n",
    "            VAL = loss_fn(pred, D[1].float().cuda())\n",
    "            optimizer.zero_grad()\n",
    "            optimizer.step()\n",
    "            \n",
    "            val_loss += VAL.item()\n",
    "            v_loss.append(VAL.cpu().detach().numpy())\n",
    "            \n",
    "            v_cor = []\n",
    "            v_big_cor = []\n",
    "            for m in range(len(D[1])):\n",
    "                corr, _ = pearsonr(D[1].cpu().detach().numpy()[m], pred.cpu().detach().numpy()[m])\n",
    "                #挑出超過 5% 的種類\n",
    "                corr_2, _ = pearsonr(D[1].cpu().detach().numpy()[m][big_type], pred.cpu().detach().numpy()[m][big_type])\n",
    "                val_cor.append(corr)\n",
    "                v_cor.append(corr)\n",
    "                v_big_cor.append(corr_2)\n",
    "                \n",
    "            b = np.quantile(v_cor,0.5).item()\n",
    "            v_big = np.quantile(v_big_cor,0.5).item()\n",
    "            \n",
    "        val_cor_list.append(val_cor)\n",
    "        v_cor_list.append(b)\n",
    "        v_big_cor_list.append(v_big)\n",
    "        val_loss_list.append(val_loss/len(test_dataset))\n",
    "        \n",
    "        \n",
    "print(\" ----- Finish!! ----- \", end=\"\\r\")"
   ]
  },
  {
   "cell_type": "code",
   "execution_count": 56,
   "metadata": {},
   "outputs": [],
   "source": [
    "model = \"m1024\""
   ]
  },
  {
   "cell_type": "code",
   "execution_count": 57,
   "metadata": {},
   "outputs": [],
   "source": [
    "torch.save(mlp.state_dict(), '../2.model/{}_model/{}_SCT_{}_{}.pth'.format(date, date, model, dropout_rate))\n",
    "torch.cuda.empty_cache()"
   ]
  },
  {
   "cell_type": "code",
   "execution_count": 58,
   "metadata": {},
   "outputs": [
    {
     "data": {
      "image/png": "[encoded data removed]",
      "text/plain": [
       "<Figure size 432x288 with 1 Axes>"
      ]
     },
     "metadata": {
      "needs_background": "light"
     },
     "output_type": "display_data"
    }
   ],
   "source": [
    "plt.title(\"{}_SCT \\n{} p_{} loss\".format(train_list, model, dropout_rate))\n",
    "plt.plot(train_loss_list,label='Training loss')\n",
    "plt.plot(val_loss_list,label='Validation loss')\n",
    "plt.ylim(0,0.04)\n",
    "plt.xlabel('Epochs')\n",
    "plt.ylabel('Loss')\n",
    "plt.legend(frameon=False)\n",
    "plt.savefig(\"../1.figure/{}_SCT/{}_SCT_{}_loss_p_{}.pdf\".format(date, date, model, dropout_rate))"
   ]
  },
  {
   "cell_type": "code",
   "execution_count": 59,
   "metadata": {},
   "outputs": [
    {
     "data": {
      "text/plain": [
       "<matplotlib.legend.Legend at 0x7f3d6921f7f0>"
      ]
     },
     "execution_count": 59,
     "metadata": {},
     "output_type": "execute_result"
    },
    {
     "data": {
      "image/png": "[encoded data removed]",
      "text/plain": [
       "<Figure size 432x288 with 1 Axes>"
      ]
     },
     "metadata": {
      "needs_background": "light"
     },
     "output_type": "display_data"
    }
   ],
   "source": [
    "plt.title(\"{}_SCT \\n{} p_{} loss\".format(train_list, model, dropout_rate))\n",
    "plt.plot(train_loss_list,label='Training loss')\n",
    "plt.plot(val_loss_list,label='Validation loss')\n",
    "#plt.ylim(0,0.035)\n",
    "plt.xlabel('Epochs')\n",
    "plt.ylabel('Loss')\n",
    "plt.legend(frameon=False)"
   ]
  },
  {
   "cell_type": "code",
   "execution_count": 60,
   "metadata": {},
   "outputs": [
    {
     "data": {
      "image/png": "[encoded data removed]",
      "text/plain": [
       "<Figure size 432x288 with 1 Axes>"
      ]
     },
     "metadata": {
      "needs_background": "light"
     },
     "output_type": "display_data"
    }
   ],
   "source": [
    "plt.title(\"{}_SCT \\n{} p_{} correlation\".format(train_list, model, dropout_rate))\n",
    "plt.plot(t_cor_list, label='Training correlation')\n",
    "plt.plot(v_cor_list, label='Validation correlation')\n",
    "plt.ylim(0,1.1)\n",
    "plt.xlabel('Epochs')\n",
    "plt.ylabel('Correlation')\n",
    "plt.legend(frameon=False)\n",
    "plt.savefig(\"../1.figure/{}_SCT/{}_SCT_{}_{}_correlation_p_{}.pdf\".format(date, date, model, train_list, dropout_rate))\n",
    "plt.show()"
   ]
  },
  {
   "cell_type": "code",
   "execution_count": 61,
   "metadata": {},
   "outputs": [
    {
     "data": {
      "image/png": "[encoded data removed]",
      "text/plain": [
       "<Figure size 432x288 with 1 Axes>"
      ]
     },
     "metadata": {
      "needs_background": "light"
     },
     "output_type": "display_data"
    }
   ],
   "source": [
    "plt.title(\"{}_SCT \\n{} p_{} \\n 16 celltypes correlation\".format(train_list, model, dropout_rate))\n",
    "plt.plot(t_big_cor_list, label='Training correlation')\n",
    "plt.plot(v_big_cor_list, label='Validation correlation')\n",
    "plt.ylim(0,1.1)\n",
    "plt.xlabel('Epochs')\n",
    "plt.ylabel('Correlation')\n",
    "plt.legend(frameon=False)\n",
    "plt.savefig(\"../1.figure/{}_SCT/{}_SCT_{}_{}_correlation_p_{}_in16_type.pdf\".format(date, date, model, train_list,dropout_rate))\n",
    "plt.show()"
   ]
  },
  {
   "cell_type": "code",
   "execution_count": 62,
   "metadata": {},
   "outputs": [
    {
     "data": {
      "text/html": [
       "<div>\n",
       "<style scoped>\n",
       "    .dataframe tbody tr th:only-of-type {\n",
       "        vertical-align: middle;\n",
       "    }\n",
       "\n",
       "    .dataframe tbody tr th {\n",
       "        vertical-align: top;\n",
       "    }\n",
       "\n",
       "    .dataframe thead th {\n",
       "        text-align: right;\n",
       "    }\n",
       "</style>\n",
       "<table border=\"1\" class=\"dataframe\">\n",
       "  <thead>\n",
       "    <tr style=\"text-align: right;\">\n",
       "      <th></th>\n",
       "      <th>Donor</th>\n",
       "      <th>Remove batch effect</th>\n",
       "      <th>Model</th>\n",
       "      <th>Dropout rate</th>\n",
       "      <th>Train loss (0.25)</th>\n",
       "      <th>Train Correlation (0.5)</th>\n",
       "      <th>Valid Correlation (0.5)</th>\n",
       "      <th>Train Correlation (0.5) in 16 type</th>\n",
       "      <th>Valid Correlation (0.5) in 16 type</th>\n",
       "    </tr>\n",
       "  </thead>\n",
       "  <tbody>\n",
       "    <tr>\n",
       "      <th>0</th>\n",
       "      <td>[D20171109, D20180108, D20180110, D20180116]</td>\n",
       "      <td>SCT</td>\n",
       "      <td>m1024</td>\n",
       "      <td>050_050_050</td>\n",
       "      <td>0.003503</td>\n",
       "      <td>0.994701</td>\n",
       "      <td>0.657999</td>\n",
       "      <td>0.993816</td>\n",
       "      <td>0.552719</td>\n",
       "    </tr>\n",
       "  </tbody>\n",
       "</table>\n",
       "</div>"
      ],
      "text/plain": [
       "                                          Donor Remove batch effect  Model  \\\n",
       "0  [D20171109, D20180108, D20180110, D20180116]                 SCT  m1024   \n",
       "\n",
       "  Dropout rate  Train loss (0.25)  Train Correlation (0.5)  \\\n",
       "0  050_050_050           0.003503                 0.994701   \n",
       "\n",
       "   Valid Correlation (0.5)  Train Correlation (0.5) in 16 type  \\\n",
       "0                 0.657999                            0.993816   \n",
       "\n",
       "   Valid Correlation (0.5) in 16 type  \n",
       "0                            0.552719  "
      ]
     },
     "execution_count": 62,
     "metadata": {},
     "output_type": "execute_result"
    }
   ],
   "source": [
    "r1 = np.quantile(train_loss_list,0.25)\n",
    "r2 = np.quantile(cor_list,0.5)\n",
    "r3 = np.quantile(val_cor_list,0.5)\n",
    "r4 = np.quantile(t_big_cor_list,0.5)\n",
    "r5 = np.quantile(v_big_cor_list,0.5)\n",
    "\n",
    "data = {'Donor': [train_list],\n",
    "        'Remove batch effect': 'SCT',\n",
    "        'Model': [model],\n",
    "        'Dropout rate': [dropout_rate],\n",
    "        'Train loss (0.25)': [r1],\n",
    "        'Train Correlation (0.5)': [r2],\n",
    "        'Valid Correlation (0.5)': [r3],\n",
    "        'Train Correlation (0.5) in 16 type': [r4],\n",
    "        'Valid Correlation (0.5) in 16 type': [r5]\n",
    "       }\n",
    "df_3 = pd.DataFrame(data)\n",
    "\n",
    "df_3"
   ]
  },
  {
   "cell_type": "code",
   "execution_count": 63,
   "metadata": {
    "scrolled": true
   },
   "outputs": [
    {
     "data": {
      "image/png": "[encoded data removed]",
      "text/plain": [
       "<Figure size 432x288 with 1 Axes>"
      ]
     },
     "metadata": {
      "needs_background": "light"
     },
     "output_type": "display_data"
    }
   ],
   "source": [
    "plt.title(\"{}_SCT \\n{} p_{} \\n 16 celltypes correlation\".format(train_list, model, dropout_rate))\n",
    "plt.boxplot([t_big_cor_list,v_big_cor_list])\n",
    "plt.xticks([1,2], [\"train_cor\",\"val_cor\"])\n",
    "plt.show()"
   ]
  },
  {
   "cell_type": "code",
   "execution_count": 64,
   "metadata": {},
   "outputs": [
    {
     "data": {
      "text/html": [
       "<div>\n",
       "<style scoped>\n",
       "    .dataframe tbody tr th:only-of-type {\n",
       "        vertical-align: middle;\n",
       "    }\n",
       "\n",
       "    .dataframe tbody tr th {\n",
       "        vertical-align: top;\n",
       "    }\n",
       "\n",
       "    .dataframe thead th {\n",
       "        text-align: right;\n",
       "    }\n",
       "</style>\n",
       "<table border=\"1\" class=\"dataframe\">\n",
       "  <thead>\n",
       "    <tr style=\"text-align: right;\">\n",
       "      <th></th>\n",
       "      <th>Donor</th>\n",
       "      <th>Remove batch effect</th>\n",
       "      <th>Model</th>\n",
       "      <th>Dropout rate</th>\n",
       "      <th>Train loss (0.25)</th>\n",
       "      <th>Train Correlation (0.5)</th>\n",
       "      <th>Valid Correlation (0.5)</th>\n",
       "      <th>Train Correlation (0.5) in 16 type</th>\n",
       "      <th>Valid Correlation (0.5) in 16 type</th>\n",
       "    </tr>\n",
       "  </thead>\n",
       "  <tbody>\n",
       "    <tr>\n",
       "      <th>0</th>\n",
       "      <td>[D20171109, D20180108, D20180110, D20180116]</td>\n",
       "      <td>SCT</td>\n",
       "      <td>m256</td>\n",
       "      <td>050_050_050</td>\n",
       "      <td>0.005213</td>\n",
       "      <td>0.986864</td>\n",
       "      <td>0.705393</td>\n",
       "      <td>0.987177</td>\n",
       "      <td>0.618488</td>\n",
       "    </tr>\n",
       "    <tr>\n",
       "      <th>1</th>\n",
       "      <td>[D20171109, D20180108, D20180110, D20180116]</td>\n",
       "      <td>SCT</td>\n",
       "      <td>m512</td>\n",
       "      <td>050_050_050</td>\n",
       "      <td>0.004167</td>\n",
       "      <td>0.992526</td>\n",
       "      <td>0.654462</td>\n",
       "      <td>0.991788</td>\n",
       "      <td>0.538894</td>\n",
       "    </tr>\n",
       "    <tr>\n",
       "      <th>2</th>\n",
       "      <td>[D20171109, D20180108, D20180110, D20180116]</td>\n",
       "      <td>SCT</td>\n",
       "      <td>m1024</td>\n",
       "      <td>050_050_050</td>\n",
       "      <td>0.003503</td>\n",
       "      <td>0.994701</td>\n",
       "      <td>0.657999</td>\n",
       "      <td>0.993816</td>\n",
       "      <td>0.552719</td>\n",
       "    </tr>\n",
       "  </tbody>\n",
       "</table>\n",
       "</div>"
      ],
      "text/plain": [
       "                                          Donor Remove batch effect  Model  \\\n",
       "0  [D20171109, D20180108, D20180110, D20180116]                 SCT   m256   \n",
       "1  [D20171109, D20180108, D20180110, D20180116]                 SCT   m512   \n",
       "2  [D20171109, D20180108, D20180110, D20180116]                 SCT  m1024   \n",
       "\n",
       "  Dropout rate  Train loss (0.25)  Train Correlation (0.5)  \\\n",
       "0  050_050_050           0.005213                 0.986864   \n",
       "1  050_050_050           0.004167                 0.992526   \n",
       "2  050_050_050           0.003503                 0.994701   \n",
       "\n",
       "   Valid Correlation (0.5)  Train Correlation (0.5) in 16 type  \\\n",
       "0                 0.705393                            0.987177   \n",
       "1                 0.654462                            0.991788   \n",
       "2                 0.657999                            0.993816   \n",
       "\n",
       "   Valid Correlation (0.5) in 16 type  \n",
       "0                            0.618488  \n",
       "1                            0.538894  \n",
       "2                            0.552719  "
      ]
     },
     "execution_count": 64,
     "metadata": {},
     "output_type": "execute_result"
    }
   ],
   "source": [
    "result_df = df_1.append([df_2,df_3], ignore_index=True)\n",
    "result_df"
   ]
  },
  {
   "cell_type": "code",
   "execution_count": 65,
   "metadata": {},
   "outputs": [],
   "source": [
    "m1024_t_cor = t_big_cor_list\n",
    "m1024_v_cor = v_big_cor_list"
   ]
  },
  {
   "cell_type": "code",
   "execution_count": 66,
   "metadata": {},
   "outputs": [
    {
     "data": {
      "image/png": "[encoded data removed]",
      "text/plain": [
       "<Figure size 432x288 with 1 Axes>"
      ]
     },
     "metadata": {
      "needs_background": "light"
     },
     "output_type": "display_data"
    }
   ],
   "source": [
    "plt.title(\"{}_SCT \\np_{} 16 celltypes \\n validation correlation\".format(train_list, dropout_rate))\n",
    "plt.boxplot([m256_v_cor, m512_v_cor, m1024_v_cor, com_v_cor])\n",
    "plt.xticks([1,2,3,4], [\"M256\",\"M512\",\"M1024\", \"Combine\"])\n",
    "plt.ylim(0,1)\n",
    "plt.grid(axis='y', which='major')\n",
    "plt.show()"
   ]
  },
  {
   "cell_type": "code",
   "execution_count": null,
   "metadata": {},
   "outputs": [],
   "source": []
  },
  {
   "cell_type": "markdown",
   "metadata": {},
   "source": [
    "## Combine three submodel"
   ]
  },
  {
   "cell_type": "code",
   "execution_count": 17,
   "metadata": {},
   "outputs": [],
   "source": [
    "mlp = MLP_batch(t_exp.shape[1], len(celltype)).to(device)\n",
    "\n",
    "loss_fn = nn.L1Loss()\n",
    "optimizer = torch.optim.Adam(mlp.parameters(),lr=0.0001)\n",
    "\n",
    "#Load data\n",
    "train_dataset = Data.TensorDataset(train, train_label)\n",
    "train_dataset = torch.utils.data.DataLoader(train_dataset, batch_size=64, shuffle=True)\n",
    "test_dataset = Data.TensorDataset(test, test_label)\n",
    "test_dataset = torch.utils.data.DataLoader(test_dataset, batch_size=64)\n",
    "\n",
    "#print(mlp)"
   ]
  },
  {
   "cell_type": "code",
   "execution_count": 18,
   "metadata": {},
   "outputs": [],
   "source": [
    "train_loss_list = []\n",
    "t_loss =[]\n",
    "val_loss_list = []\n",
    "v_loss = []\n",
    "\n",
    "cor = []\n",
    "cor_list = []\n",
    "val_cor = []\n",
    "val_cor_list = []\n",
    "\n",
    "t_cor_list = []\n",
    "v_cor_list = []\n",
    "t_big_cor_list = []\n",
    "v_big_cor_list = []\n",
    "\n",
    "epochs = 50\n",
    "big_type = [1,3,4,5,6,7,8,10,11,13,14,19,20,21,22,24]\n"
   ]
  },
  {
   "cell_type": "code",
   "execution_count": 19,
   "metadata": {
    "scrolled": true
   },
   "outputs": [
    {
     "name": "stdout",
     "output_type": "stream",
     "text": [
      "      epoch: 1            \n",
      "      epoch: 2            \n",
      "      epoch: 3            \n",
      "      epoch: 4            \n",
      "      epoch: 5            \n",
      "      epoch: 6            \n",
      "      epoch: 7            \n",
      "      epoch: 8            \n",
      "      epoch: 9            \n",
      "      epoch: 10            \n",
      "      epoch: 11            \n",
      "      epoch: 12            \n",
      "      epoch: 13            \n",
      "      epoch: 14            \n",
      "      epoch: 15            \n",
      "      epoch: 16            \n",
      "      epoch: 17            \n",
      "      epoch: 18            \n",
      "      epoch: 19            \n",
      "      epoch: 20            \n",
      "      epoch: 21            \n",
      "      epoch: 22            \n",
      "      epoch: 23            \n",
      "      epoch: 24            \n",
      "      epoch: 25            \n",
      "      epoch: 26            \n",
      "      epoch: 27            \n",
      "      epoch: 28            \n",
      "      epoch: 29            \n",
      "      epoch: 30            \n",
      "      epoch: 31            \n",
      "      epoch: 32            \n",
      "      epoch: 33            \n",
      "      epoch: 34            \n",
      "      epoch: 35            \n",
      "      epoch: 36            \n",
      "      epoch: 37            \n",
      "      epoch: 38            \n",
      "      epoch: 39            \n",
      "      epoch: 40            \n",
      "      epoch: 41            \n",
      "      epoch: 42            \n",
      "      epoch: 43            \n",
      "      epoch: 44            \n",
      "      epoch: 45            \n",
      "      epoch: 46            \n",
      "      epoch: 47            \n",
      "      epoch: 48            \n",
      "      epoch: 49            \n",
      "      epoch: 50            \n",
      " ----- Finish!! ----- ---\r"
     ]
    }
   ],
   "source": [
    "#Train\n",
    "for inte in range(epochs):\n",
    "    mlp.train()\n",
    "    print(\"--- Start training! ---\", end=\"\\r\")\n",
    "    print('      epoch: {}            '.format(inte+1))\n",
    "    train_loss = 0\n",
    "    val_loss = 0\n",
    "    a = 0\n",
    "    b = 0\n",
    "    t_big = 0\n",
    "    v_big = 0\n",
    "    \n",
    "    for n, D in enumerate(train_dataset):\n",
    "        pred = mlp(D[0].float().cuda())\n",
    "        MAE = loss_fn(pred, D[1].float().cuda())\n",
    "        optimizer.zero_grad()\n",
    "        MAE.backward()\n",
    "        optimizer.step()\n",
    "        \n",
    "        train_loss += MAE.item()\n",
    "        t_loss.append(MAE.cpu().detach().numpy())\n",
    "        \n",
    "        t_cor = []\n",
    "        t_big_cor = []\n",
    "        for m in range(len(D[1])):\n",
    "            corr, _ = pearsonr(D[1].cpu().detach().numpy()[m], pred.cpu().detach().numpy()[m])\n",
    "            #挑出超過 5% 的種類\n",
    "            corr_2, _ = pearsonr(D[1].cpu().detach().numpy()[m][big_type], pred.cpu().detach().numpy()[m][big_type])\n",
    "            cor.append(corr)\n",
    "            t_cor.append(corr)\n",
    "            t_big_cor.append(corr_2)\n",
    "            \n",
    "        a = np.quantile(t_cor, 0.5).item()\n",
    "        t_big = np.quantile(t_big_cor, 0.5).item()\n",
    "        \n",
    "    cor_list.append(cor)       \n",
    "    t_cor_list.append(a)\n",
    "    t_big_cor_list.append(t_big)\n",
    "    train_loss_list.append(train_loss/len(train_dataset))    \n",
    "    \n",
    "#Validation    \n",
    "    print(\"--- Now evaluation!!! ---\",end=\"\\r\")\n",
    "    mlp.eval()\n",
    "    \n",
    "    # Tell torch not to calculate gradients\n",
    "    with torch.no_grad():\n",
    "        for n, D in enumerate(test_dataset):\n",
    "            pred = mlp(D[0].float().cuda())\n",
    "            VAL = loss_fn(pred, D[1].float().cuda())\n",
    "            optimizer.zero_grad()\n",
    "            optimizer.step()\n",
    "            \n",
    "            val_loss += VAL.item()\n",
    "            v_loss.append(VAL.cpu().detach().numpy())\n",
    "            \n",
    "            v_cor = []\n",
    "            v_big_cor = []\n",
    "            for m in range(len(D[1])):\n",
    "                corr, _ = pearsonr(D[1].cpu().detach().numpy()[m], pred.cpu().detach().numpy()[m])\n",
    "                #挑出超過 5% 的種類\n",
    "                corr_2, _ = pearsonr(D[1].cpu().detach().numpy()[m][big_type], pred.cpu().detach().numpy()[m][big_type])\n",
    "                val_cor.append(corr)\n",
    "                v_cor.append(corr)\n",
    "                v_big_cor.append(corr_2)\n",
    "                \n",
    "            b = np.quantile(v_cor,0.5).item()\n",
    "            v_big = np.quantile(v_big_cor,0.5).item()\n",
    "            \n",
    "        val_cor_list.append(val_cor)\n",
    "        v_cor_list.append(b)\n",
    "        v_big_cor_list.append(v_big)\n",
    "        val_loss_list.append(val_loss/len(test_dataset))\n",
    "        \n",
    "        \n",
    "print(\" ----- Finish!! ----- \", end=\"\\r\")"
   ]
  },
  {
   "cell_type": "code",
   "execution_count": 20,
   "metadata": {},
   "outputs": [],
   "source": [
    "model = \"combine_model\""
   ]
  },
  {
   "cell_type": "code",
   "execution_count": 21,
   "metadata": {},
   "outputs": [],
   "source": [
    "torch.save(mlp.state_dict(), '../2.model/{}_model/{}_SCT_{}_{}.pth'.format(date, date, model, dropout_rate))\n",
    "torch.cuda.empty_cache()"
   ]
  },
  {
   "cell_type": "code",
   "execution_count": 22,
   "metadata": {},
   "outputs": [
    {
     "data": {
      "image/png": "[encoded data removed]",
      "text/plain": [
       "<Figure size 432x288 with 1 Axes>"
      ]
     },
     "metadata": {
      "needs_background": "light"
     },
     "output_type": "display_data"
    }
   ],
   "source": [
    "plt.title(\"{}_SCT \\n{} p_{} loss\".format(train_list, model, dropout_rate))\n",
    "plt.plot(train_loss_list,label='Training loss')\n",
    "plt.plot(val_loss_list,label='Validation loss')\n",
    "plt.ylim(0,0.04)\n",
    "plt.xlabel('Epochs')\n",
    "plt.ylabel('Loss')\n",
    "plt.legend(frameon=False)\n",
    "plt.savefig(\"../1.figure/{}_SCT/{}_SCT_{}_loss_p_{}.pdf\".format(date, date, model, dropout_rate))"
   ]
  },
  {
   "cell_type": "code",
   "execution_count": 23,
   "metadata": {},
   "outputs": [
    {
     "data": {
      "text/plain": [
       "<matplotlib.legend.Legend at 0x7f3d6b732dd8>"
      ]
     },
     "execution_count": 23,
     "metadata": {},
     "output_type": "execute_result"
    },
    {
     "data": {
      "image/png": "[encoded data removed]",
      "text/plain": [
       "<Figure size 432x288 with 1 Axes>"
      ]
     },
     "metadata": {
      "needs_background": "light"
     },
     "output_type": "display_data"
    }
   ],
   "source": [
    "plt.title(\"{}_SCT \\n{} p_{} loss\".format(train_list, model, dropout_rate))\n",
    "plt.plot(train_loss_list,label='Training loss')\n",
    "plt.plot(val_loss_list,label='Validation loss')\n",
    "#plt.ylim(0,0.035)\n",
    "plt.xlabel('Epochs')\n",
    "plt.ylabel('Loss')\n",
    "plt.legend(frameon=False)"
   ]
  },
  {
   "cell_type": "code",
   "execution_count": 24,
   "metadata": {},
   "outputs": [
    {
     "data": {
      "image/png": "[encoded data removed]",
      "text/plain": [
       "<Figure size 432x288 with 1 Axes>"
      ]
     },
     "metadata": {
      "needs_background": "light"
     },
     "output_type": "display_data"
    }
   ],
   "source": [
    "plt.title(\"{}_SCT \\n{} p_{} correlation\".format(train_list, model, dropout_rate))\n",
    "plt.plot(t_cor_list, label='Training correlation')\n",
    "plt.plot(v_cor_list, label='Validation correlation')\n",
    "plt.ylim(0,1.1)\n",
    "plt.xlabel('Epochs')\n",
    "plt.ylabel('Correlation')\n",
    "plt.legend(frameon=False)\n",
    "plt.savefig(\"../1.figure/{}_SCT/{}_SCT_{}_{}_correlation_p_{}.pdf\".format(date, date, model, train_list, dropout_rate))\n",
    "plt.show()"
   ]
  },
  {
   "cell_type": "code",
   "execution_count": 25,
   "metadata": {
    "scrolled": true
   },
   "outputs": [
    {
     "data": {
      "image/png": "[encoded data removed]",
      "text/plain": [
       "<Figure size 432x288 with 1 Axes>"
      ]
     },
     "metadata": {
      "needs_background": "light"
     },
     "output_type": "display_data"
    }
   ],
   "source": [
    "plt.title(\"{}_SCT \\n{} p_{} \\n 16 celltypes correlation\".format(train_list, model, dropout_rate))\n",
    "plt.plot(t_big_cor_list, label='Training correlation')\n",
    "plt.plot(v_big_cor_list, label='Validation correlation')\n",
    "plt.ylim(0,1.1)\n",
    "plt.xlabel('Epochs')\n",
    "plt.ylabel('Correlation')\n",
    "plt.legend(frameon=False)\n",
    "plt.savefig(\"../1.figure/{}_SCT/{}_SCT_{}_{}_correlation_p_{}_in16_type.pdf\".format(date, date, model, train_list,dropout_rate))\n",
    "plt.show()"
   ]
  },
  {
   "cell_type": "code",
   "execution_count": 26,
   "metadata": {},
   "outputs": [
    {
     "data": {
      "text/html": [
       "<div>\n",
       "<style scoped>\n",
       "    .dataframe tbody tr th:only-of-type {\n",
       "        vertical-align: middle;\n",
       "    }\n",
       "\n",
       "    .dataframe tbody tr th {\n",
       "        vertical-align: top;\n",
       "    }\n",
       "\n",
       "    .dataframe thead th {\n",
       "        text-align: right;\n",
       "    }\n",
       "</style>\n",
       "<table border=\"1\" class=\"dataframe\">\n",
       "  <thead>\n",
       "    <tr style=\"text-align: right;\">\n",
       "      <th></th>\n",
       "      <th>Donor</th>\n",
       "      <th>Remove batch effect</th>\n",
       "      <th>Model</th>\n",
       "      <th>Dropout rate</th>\n",
       "      <th>Train loss (0.25)</th>\n",
       "      <th>Train Correlation (0.5)</th>\n",
       "      <th>Valid Correlation (0.5)</th>\n",
       "      <th>Train Correlation (0.5) in 16 type</th>\n",
       "      <th>Valid Correlation (0.5) in 16 type</th>\n",
       "    </tr>\n",
       "  </thead>\n",
       "  <tbody>\n",
       "    <tr>\n",
       "      <th>0</th>\n",
       "      <td>[D20171109, D20180108, D20180110, D20180116]</td>\n",
       "      <td>SCT</td>\n",
       "      <td>combine_model</td>\n",
       "      <td>050_050_050</td>\n",
       "      <td>0.002571</td>\n",
       "      <td>0.995845</td>\n",
       "      <td>0.708639</td>\n",
       "      <td>0.995105</td>\n",
       "      <td>0.667459</td>\n",
       "    </tr>\n",
       "  </tbody>\n",
       "</table>\n",
       "</div>"
      ],
      "text/plain": [
       "                                          Donor Remove batch effect  \\\n",
       "0  [D20171109, D20180108, D20180110, D20180116]                 SCT   \n",
       "\n",
       "           Model Dropout rate  Train loss (0.25)  Train Correlation (0.5)  \\\n",
       "0  combine_model  050_050_050           0.002571                 0.995845   \n",
       "\n",
       "   Valid Correlation (0.5)  Train Correlation (0.5) in 16 type  \\\n",
       "0                 0.708639                            0.995105   \n",
       "\n",
       "   Valid Correlation (0.5) in 16 type  \n",
       "0                            0.667459  "
      ]
     },
     "execution_count": 26,
     "metadata": {},
     "output_type": "execute_result"
    }
   ],
   "source": [
    "r1 = np.quantile(train_loss_list,0.25)\n",
    "r2 = np.quantile(cor_list,0.5)\n",
    "r3 = np.quantile(val_cor_list,0.5)\n",
    "r4 = np.quantile(t_big_cor_list,0.5)\n",
    "r5 = np.quantile(v_big_cor_list,0.5)\n",
    "\n",
    "data = {'Donor': [train_list],\n",
    "        'Remove batch effect': 'SCT',\n",
    "        'Model': [model],\n",
    "        'Dropout rate': [dropout_rate],\n",
    "        'Train loss (0.25)': [r1],\n",
    "        'Train Correlation (0.5)': [r2],\n",
    "        'Valid Correlation (0.5)': [r3],\n",
    "        'Train Correlation (0.5) in 16 type': [r4],\n",
    "        'Valid Correlation (0.5) in 16 type': [r5]\n",
    "       }\n",
    "df_1 = pd.DataFrame(data)\n",
    "\n",
    "df_1"
   ]
  },
  {
   "cell_type": "code",
   "execution_count": 27,
   "metadata": {
    "scrolled": true
   },
   "outputs": [
    {
     "data": {
      "image/png": "[encoded data removed]",
      "text/plain": [
       "<Figure size 432x288 with 1 Axes>"
      ]
     },
     "metadata": {
      "needs_background": "light"
     },
     "output_type": "display_data"
    }
   ],
   "source": [
    "plt.title(\"{}_SCT \\n{} p_{} \\n 16 celltypes correlation\".format(train_list, model, dropout_rate))\n",
    "plt.boxplot([t_big_cor_list,v_big_cor_list])\n",
    "plt.xticks([1,2], [\"train_cor\",\"val_cor\"])\n",
    "plt.show()"
   ]
  },
  {
   "cell_type": "code",
   "execution_count": 28,
   "metadata": {},
   "outputs": [],
   "source": [
    "com_t_cor = t_big_cor_list\n",
    "com_v_cor = v_big_cor_list"
   ]
  },
  {
   "cell_type": "code",
   "execution_count": null,
   "metadata": {},
   "outputs": [],
   "source": []
  }
 ],
 "metadata": {
  "kernelspec": {
   "display_name": "Python 3",
   "language": "python",
   "name": "python3"
  },
  "language_info": {
   "codemirror_mode": {
    "name": "ipython",
    "version": 3
   },
   "file_extension": ".py",
   "mimetype": "text/x-python",
   "name": "python",
   "nbconvert_exporter": "python",
   "pygments_lexer": "ipython3",
   "version": "3.6.9"
  }
 },
 "nbformat": 4,
 "nbformat_minor": 2
}
